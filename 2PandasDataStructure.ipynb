{
 "cells": [
  {
   "cell_type": "code",
   "execution_count": 2,
   "metadata": {},
   "outputs": [],
   "source": [
    "import pandas as pd"
   ]
  },
  {
   "cell_type": "code",
   "execution_count": 5,
   "metadata": {},
   "outputs": [
    {
     "name": "stdout",
     "output_type": "stream",
     "text": [
      "0    banana\n",
      "1        42\n",
      "dtype: object\n"
     ]
    }
   ],
   "source": [
    "#Creating a Sieries\n",
    "#Pandas series is a 1-d container, it represents each column of the dataframe\n",
    "s = pd.Series(['banana',42])\n",
    "print(s)"
   ]
  },
  {
   "cell_type": "code",
   "execution_count": 7,
   "metadata": {},
   "outputs": [
    {
     "name": "stdout",
     "output_type": "stream",
     "text": [
      "1    a\n",
      "2    b\n",
      "3    c\n",
      "dtype: object\n"
     ]
    }
   ],
   "source": [
    "s = pd.Series(['a','b','c'],['1','2','3'])\n",
    "#([,index=[]])\n",
    "print(s)"
   ]
  },
  {
   "cell_type": "code",
   "execution_count": 13,
   "metadata": {},
   "outputs": [
    {
     "name": "stdout",
     "output_type": "stream",
     "text": [
      "    Name  Age\n",
      "0  Glenn   25\n",
      "1  Daisy   25\n",
      "2  Sally   25\n"
     ]
    }
   ],
   "source": [
    "#Creating a dataframe\n",
    "scientists = pd.DataFrame({'Name':['Glenn','Daisy','Sally'],\n",
    "                          'Age':[25,25,25]\n",
    "                          })\n",
    "print (scientists)"
   ]
  },
  {
   "cell_type": "code",
   "execution_count": 18,
   "metadata": {},
   "outputs": [
    {
     "name": "stdout",
     "output_type": "stream",
     "text": [
      "  Name    Occupation  age\n",
      "0   Rk       chemist   29\n",
      "1   WG  statistician   31\n"
     ]
    }
   ],
   "source": [
    "#with ordered dic\n",
    "from collections import OrderedDict\n",
    "scientists = pd.DataFrame(OrderedDict([\n",
    "    ('Name',['Rk','WG']),\n",
    "    ('Occupation',['chemist','statistician']),\n",
    "    ('age',[29,31])\n",
    "]))\n",
    "print(scientists)"
   ]
  },
  {
   "cell_type": "code",
   "execution_count": 19,
   "metadata": {},
   "outputs": [
    {
     "name": "stdout",
     "output_type": "stream",
     "text": [
      "      Occupation        Born        Died  age\n",
      "RF       chemist  1920-07-25  1958-04-16   37\n",
      "WG  statistician  1876-06-13  1937-10-16   61\n"
     ]
    }
   ],
   "source": [
    "#The seRies\n",
    "scientist = pd.DataFrame(data = {\n",
    "    'Occupation':['chemist','statistician'],\n",
    "    'Born':['1920-07-25','1876-06-13'],\n",
    "    'Died':['1958-04-16','1937-10-16'],\n",
    "    'age':[37,61]},\n",
    "    index = ['RF','WG'],\n",
    "    columns = ['Occupation','Born','Died','age'])\n",
    "print(scientist)"
   ]
  },
  {
   "cell_type": "code",
   "execution_count": 22,
   "metadata": {},
   "outputs": [
    {
     "name": "stdout",
     "output_type": "stream",
     "text": [
      "<class 'pandas.core.series.Series'>\n",
      "Occupation       chemist\n",
      "Born          1920-07-25\n",
      "Died          1958-04-16\n",
      "age                   37\n",
      "Name: RF, dtype: object\n",
      "Index(['Occupation', 'Born', 'Died', 'age'], dtype='object')\n",
      "['chemist' '1920-07-25' '1958-04-16' 37]\n",
      "Index(['Occupation', 'Born', 'Died', 'age'], dtype='object')\n"
     ]
    }
   ],
   "source": [
    "#select by row index name\n",
    "rf = scientist.loc['RF']\n",
    "print(type(rf))\n",
    "print(rf)\n",
    "print(rf.index)\n",
    "print(rf.values)\n",
    "print(rf.keys())"
   ]
  },
  {
   "cell_type": "code",
   "execution_count": 74,
   "metadata": {},
   "outputs": [
    {
     "name": "stdout",
     "output_type": "stream",
     "text": [
      "                   Name        Born        Died  Age    Occupation\n",
      "0     Rosaline Franklin  1920-07-25  1958-04-16   37       Chemist\n",
      "1        William Gosset  1876-06-13  1937-10-16   61  Statistician\n",
      "2  Florence Nightingale  1820-05-12  1910-08-13   90         Nurse\n",
      "3           Marie Curie  1867-11-07  1934-07-04   66       Chemist\n",
      "4         Rachel Carson  1907-05-27  1964-04-14   56     Biologist\n",
      "<class 'pandas.core.frame.DataFrame'>\n"
     ]
    }
   ],
   "source": [
    "st = pd.read_csv('C:/Users/Glenn/data/scientists.csv')\n",
    "print(st.head())\n",
    "print(type(st))"
   ]
  },
  {
   "cell_type": "code",
   "execution_count": 41,
   "metadata": {},
   "outputs": [
    {
     "name": "stdout",
     "output_type": "stream",
     "text": [
      "0    37\n",
      "1    61\n",
      "2    90\n",
      "3    66\n",
      "4    56\n",
      "5    45\n",
      "6    41\n",
      "7    77\n",
      "Name: Age, dtype: int64\n"
     ]
    }
   ],
   "source": [
    "ages = st['Age']\n",
    "print(ages)"
   ]
  },
  {
   "cell_type": "code",
   "execution_count": 42,
   "metadata": {},
   "outputs": [
    {
     "name": "stdout",
     "output_type": "stream",
     "text": [
      "count     8.000000\n",
      "mean     59.125000\n",
      "std      18.325918\n",
      "min      37.000000\n",
      "25%      44.000000\n",
      "50%      58.500000\n",
      "75%      68.750000\n",
      "max      90.000000\n",
      "Name: Age, dtype: float64\n"
     ]
    }
   ],
   "source": [
    "#basic info\n",
    "print(ages.describe())"
   ]
  },
  {
   "cell_type": "code",
   "execution_count": 45,
   "metadata": {},
   "outputs": [
    {
     "name": "stdout",
     "output_type": "stream",
     "text": [
      "0    False\n",
      "1     True\n",
      "2     True\n",
      "3     True\n",
      "4    False\n",
      "5    False\n",
      "6    False\n",
      "7     True\n",
      "Name: Age, dtype: bool\n",
      "1    61\n",
      "2    90\n",
      "3    66\n",
      "7    77\n",
      "Name: Age, dtype: int64\n",
      "<class 'pandas.core.series.Series'>\n"
     ]
    }
   ],
   "source": [
    "print(ages>ages.mean())\n",
    "print(ages[ages>ages.mean()])\n",
    "print(type(ages>ages.mean()))"
   ]
  },
  {
   "cell_type": "code",
   "execution_count": 47,
   "metadata": {},
   "outputs": [
    {
     "name": "stdout",
     "output_type": "stream",
     "text": [
      "0    37\n",
      "1    61\n",
      "4    56\n",
      "5    45\n",
      "7    77\n",
      "Name: Age, dtype: int64\n"
     ]
    }
   ],
   "source": [
    "#get index 0,1,4,5,7 by bool\n",
    "manual_bool_values = [True,True,False,False,True,True,False,True]\n",
    "print(ages[manual_bool_values])"
   ]
  },
  {
   "cell_type": "code",
   "execution_count": 49,
   "metadata": {},
   "outputs": [
    {
     "name": "stdout",
     "output_type": "stream",
     "text": [
      "0    37\n",
      "1    61\n",
      "2    90\n",
      "3    66\n",
      "4    56\n",
      "5    45\n",
      "6    41\n",
      "7    77\n",
      "Name: Age, dtype: int64\n",
      "0     74\n",
      "1    122\n",
      "2    180\n",
      "3    132\n",
      "4    112\n",
      "5     90\n",
      "6     82\n",
      "7    154\n",
      "Name: Age, dtype: int64\n"
     ]
    }
   ],
   "source": [
    "#operations are automatically aligned and cvectorized\n",
    "#vector of the same len\n",
    "print(ages)\n",
    "print(ages+ages)\n",
    "print(ages*ages)"
   ]
  },
  {
   "cell_type": "code",
   "execution_count": 50,
   "metadata": {},
   "outputs": [
    {
     "name": "stdout",
     "output_type": "stream",
     "text": [
      "0    137\n",
      "1    161\n",
      "2    190\n",
      "3    166\n",
      "4    156\n",
      "5    145\n",
      "6    141\n",
      "7    177\n",
      "Name: Age, dtype: int64\n",
      "0    3700\n",
      "1    6100\n",
      "2    9000\n",
      "3    6600\n",
      "4    5600\n",
      "5    4500\n",
      "6    4100\n",
      "7    7700\n",
      "Name: Age, dtype: int64\n"
     ]
    }
   ],
   "source": [
    "#vector with integers\n",
    "print(ages+100)\n",
    "print(ages*100)"
   ]
  },
  {
   "cell_type": "code",
   "execution_count": 51,
   "metadata": {},
   "outputs": [
    {
     "name": "stdout",
     "output_type": "stream",
     "text": [
      "0     38.0\n",
      "1    161.0\n",
      "2      NaN\n",
      "3      NaN\n",
      "4      NaN\n",
      "5      NaN\n",
      "6      NaN\n",
      "7      NaN\n",
      "dtype: float64\n"
     ]
    }
   ],
   "source": [
    "#vector with diff len\n",
    "print(ages+pd.Series([1,100]))"
   ]
  },
  {
   "cell_type": "code",
   "execution_count": 53,
   "metadata": {},
   "outputs": [
    {
     "name": "stdout",
     "output_type": "stream",
     "text": [
      "0    37\n",
      "1    61\n",
      "2    90\n",
      "3    66\n",
      "4    56\n",
      "5    45\n",
      "6    41\n",
      "7    77\n",
      "Name: Age, dtype: int64\n",
      "7    77\n",
      "6    41\n",
      "5    45\n",
      "4    56\n",
      "3    66\n",
      "2    90\n",
      "1    61\n",
      "0    37\n",
      "Name: Age, dtype: int64\n",
      "0     74\n",
      "1    122\n",
      "2    180\n",
      "3    132\n",
      "4    112\n",
      "5     90\n",
      "6     82\n",
      "7    154\n",
      "Name: Age, dtype: int64\n",
      "0     74\n",
      "1    122\n",
      "2    180\n",
      "3    132\n",
      "4    112\n",
      "5     90\n",
      "6     82\n",
      "7    154\n",
      "Name: Age, dtype: int64\n"
     ]
    }
   ],
   "source": [
    "#vectors with common index label(automatic alignment)\n",
    "print(ages)\n",
    "rev_ages = ages.sort_index(ascending=False)\n",
    "print(rev_ages)\n",
    "print(rev_ages+ages)\n",
    "print(ages*2)"
   ]
  },
  {
   "cell_type": "code",
   "execution_count": 55,
   "metadata": {},
   "outputs": [
    {
     "name": "stdout",
     "output_type": "stream",
     "text": [
      "                   Name        Born        Died  Age     Occupation\n",
      "1        William Gosset  1876-06-13  1937-10-16   61   Statistician\n",
      "2  Florence Nightingale  1820-05-12  1910-08-13   90          Nurse\n",
      "3           Marie Curie  1867-11-07  1934-07-04   66        Chemist\n",
      "7          Johann Gauss  1777-04-30  1855-02-23   77  Mathematician\n"
     ]
    }
   ],
   "source": [
    "#thedataframe\n",
    "print(st[st['Age']>st['Age'].mean()])"
   ]
  },
  {
   "cell_type": "code",
   "execution_count": 56,
   "metadata": {},
   "outputs": [
    {
     "name": "stdout",
     "output_type": "stream",
     "text": [
      "                                       Name                  Born  \\\n",
      "0        Rosaline FranklinRosaline Franklin  1920-07-251920-07-25   \n",
      "1              William GossetWilliam Gosset  1876-06-131876-06-13   \n",
      "2  Florence NightingaleFlorence Nightingale  1820-05-121820-05-12   \n",
      "3                    Marie CurieMarie Curie  1867-11-071867-11-07   \n",
      "4                Rachel CarsonRachel Carson  1907-05-271907-05-27   \n",
      "5                        John SnowJohn Snow  1813-03-151813-03-15   \n",
      "6                    Alan TuringAlan Turing  1912-06-231912-06-23   \n",
      "7                  Johann GaussJohann Gauss  1777-04-301777-04-30   \n",
      "\n",
      "                   Died  Age                            Occupation  \n",
      "0  1958-04-161958-04-16   74                        ChemistChemist  \n",
      "1  1937-10-161937-10-16  122              StatisticianStatistician  \n",
      "2  1910-08-131910-08-13  180                            NurseNurse  \n",
      "3  1934-07-041934-07-04  132                        ChemistChemist  \n",
      "4  1964-04-141964-04-14  112                    BiologistBiologist  \n",
      "5  1858-06-161858-06-16   90                    PhysicianPhysician  \n",
      "6  1954-06-071954-06-07   82  Computer ScientistComputer Scientist  \n",
      "7  1855-02-231855-02-23  154            MathematicianMathematician  \n"
     ]
    }
   ],
   "source": [
    "#broadcasting from numpy\n",
    "print(st*2)"
   ]
  },
  {
   "cell_type": "code",
   "execution_count": 57,
   "metadata": {},
   "outputs": [
    {
     "name": "stdout",
     "output_type": "stream",
     "text": [
      "object\n",
      "object\n"
     ]
    }
   ],
   "source": [
    "#making changes to series and dataframe\n",
    "#add additional columns\n",
    "print(st['Born'].dtype)\n",
    "print(st['Died'].dtype)"
   ]
  },
  {
   "cell_type": "code",
   "execution_count": 61,
   "metadata": {},
   "outputs": [
    {
     "name": "stdout",
     "output_type": "stream",
     "text": [
      "0   1920-07-25\n",
      "1   1876-06-13\n",
      "2   1820-05-12\n",
      "3   1867-11-07\n",
      "4   1907-05-27\n",
      "5   1813-03-15\n",
      "6   1912-06-23\n",
      "7   1777-04-30\n",
      "Name: Born, dtype: datetime64[ns]\n"
     ]
    }
   ],
   "source": [
    "#need to conver as daate format\n",
    "born_date = pd.to_datetime(st['Born'],format='%Y-%m-%d')\n",
    "print(born_date)"
   ]
  },
  {
   "cell_type": "code",
   "execution_count": 80,
   "metadata": {},
   "outputs": [
    {
     "name": "stdout",
     "output_type": "stream",
     "text": [
      "                   Name        Born        Died  Age          Occupation  \\\n",
      "0     Rosaline Franklin  1920-07-25  1958-04-16   61             Chemist   \n",
      "1        William Gosset  1876-06-13  1937-10-16   45        Statistician   \n",
      "2  Florence Nightingale  1820-05-12  1910-08-13   37               Nurse   \n",
      "3           Marie Curie  1867-11-07  1934-07-04   90             Chemist   \n",
      "4         Rachel Carson  1907-05-27  1964-04-14   56           Biologist   \n",
      "5             John Snow  1813-03-15  1858-06-16   66           Physician   \n",
      "6           Alan Turing  1912-06-23  1954-06-07   77  Computer Scientist   \n",
      "7          Johann Gauss  1777-04-30  1855-02-23   41       Mathematician   \n",
      "\n",
      "     born_dt  died_date  \n",
      "0 1920-07-25 1958-04-16  \n",
      "1 1876-06-13 1937-10-16  \n",
      "2 1820-05-12 1910-08-13  \n",
      "3 1867-11-07 1934-07-04  \n",
      "4 1907-05-27 1964-04-14  \n",
      "5 1813-03-15 1858-06-16  \n",
      "6 1912-06-23 1954-06-07  \n",
      "7 1777-04-30 1855-02-23  \n",
      "                   Name        Born        Died  Age          Occupation  \\\n",
      "0     Rosaline Franklin  1920-07-25  1958-04-16   61             Chemist   \n",
      "1        William Gosset  1876-06-13  1937-10-16   45        Statistician   \n",
      "2  Florence Nightingale  1820-05-12  1910-08-13   37               Nurse   \n",
      "3           Marie Curie  1867-11-07  1934-07-04   90             Chemist   \n",
      "4         Rachel Carson  1907-05-27  1964-04-14   56           Biologist   \n",
      "5             John Snow  1813-03-15  1858-06-16   66           Physician   \n",
      "6           Alan Turing  1912-06-23  1954-06-07   77  Computer Scientist   \n",
      "7          Johann Gauss  1777-04-30  1855-02-23   41       Mathematician   \n",
      "\n",
      "     born_dt  died_date  \n",
      "0 1920-07-25 1958-04-16  \n",
      "1 1876-06-13 1937-10-16  \n",
      "2 1820-05-12 1910-08-13  \n",
      "3 1867-11-07 1934-07-04  \n",
      "4 1907-05-27 1964-04-14  \n",
      "5 1813-03-15 1858-06-16  \n",
      "6 1912-06-23 1954-06-07  \n",
      "7 1777-04-30 1855-02-23  \n"
     ]
    }
   ],
   "source": [
    "died_date = pd.to_datetime(st['Died'],format='%Y-%m-%d')\n",
    "print(st)\n",
    "st['born_dt'],st['died_date']=(born_date,died_date)\n",
    "print(st)"
   ]
  },
  {
   "cell_type": "code",
   "execution_count": 71,
   "metadata": {},
   "outputs": [
    {
     "name": "stdout",
     "output_type": "stream",
     "text": [
      "0    90\n",
      "1    56\n",
      "2    77\n",
      "3    41\n",
      "4    37\n",
      "5    66\n",
      "6    61\n",
      "7    45\n",
      "Name: Age, dtype: int64\n"
     ]
    }
   ],
   "source": [
    "#directly change the column\n",
    "print(st['Age'])"
   ]
  },
  {
   "cell_type": "code",
   "execution_count": 81,
   "metadata": {},
   "outputs": [
    {
     "name": "stdout",
     "output_type": "stream",
     "text": [
      "                   Name        Born        Died  Age          Occupation  \\\n",
      "0     Rosaline Franklin  1920-07-25  1958-04-16   61             Chemist   \n",
      "1        William Gosset  1876-06-13  1937-10-16   45        Statistician   \n",
      "2  Florence Nightingale  1820-05-12  1910-08-13   37               Nurse   \n",
      "3           Marie Curie  1867-11-07  1934-07-04   90             Chemist   \n",
      "4         Rachel Carson  1907-05-27  1964-04-14   56           Biologist   \n",
      "5             John Snow  1813-03-15  1858-06-16   66           Physician   \n",
      "6           Alan Turing  1912-06-23  1954-06-07   77  Computer Scientist   \n",
      "7          Johann Gauss  1777-04-30  1855-02-23   41       Mathematician   \n",
      "\n",
      "     born_dt  died_date  \n",
      "0 1920-07-25 1958-04-16  \n",
      "1 1876-06-13 1937-10-16  \n",
      "2 1820-05-12 1910-08-13  \n",
      "3 1867-11-07 1934-07-04  \n",
      "4 1907-05-27 1964-04-14  \n",
      "5 1813-03-15 1858-06-16  \n",
      "6 1912-06-23 1954-06-07  \n",
      "7 1777-04-30 1855-02-23  \n",
      "0    90\n",
      "1    56\n",
      "2    77\n",
      "3    41\n",
      "4    37\n",
      "5    66\n",
      "6    61\n",
      "7    45\n",
      "Name: Age, dtype: int64\n",
      "                   Name        Born        Died  Age          Occupation  \\\n",
      "0     Rosaline Franklin  1920-07-25  1958-04-16   90             Chemist   \n",
      "1        William Gosset  1876-06-13  1937-10-16   56        Statistician   \n",
      "2  Florence Nightingale  1820-05-12  1910-08-13   77               Nurse   \n",
      "3           Marie Curie  1867-11-07  1934-07-04   41             Chemist   \n",
      "4         Rachel Carson  1907-05-27  1964-04-14   37           Biologist   \n",
      "5             John Snow  1813-03-15  1858-06-16   66           Physician   \n",
      "6           Alan Turing  1912-06-23  1954-06-07   61  Computer Scientist   \n",
      "7          Johann Gauss  1777-04-30  1855-02-23   45       Mathematician   \n",
      "\n",
      "     born_dt  died_date  \n",
      "0 1920-07-25 1958-04-16  \n",
      "1 1876-06-13 1937-10-16  \n",
      "2 1820-05-12 1910-08-13  \n",
      "3 1867-11-07 1934-07-04  \n",
      "4 1907-05-27 1964-04-14  \n",
      "5 1813-03-15 1858-06-16  \n",
      "6 1912-06-23 1954-06-07  \n",
      "7 1777-04-30 1855-02-23  \n"
     ]
    }
   ],
   "source": [
    "print(st)\n",
    "#set seed to 42\n",
    "import random as rd\n",
    "rd.seed(42)\n",
    "rd.shuffle(st['Age'])\n",
    "print(st['Age'])\n",
    "print(st)"
   ]
  },
  {
   "cell_type": "code",
   "execution_count": 82,
   "metadata": {},
   "outputs": [
    {
     "name": "stdout",
     "output_type": "stream",
     "text": [
      "0    45\n",
      "1    66\n",
      "2    61\n",
      "3    37\n",
      "4    56\n",
      "5    90\n",
      "6    41\n",
      "7    77\n",
      "Name: Age, dtype: int64\n",
      "                   Name        Born        Died  Age          Occupation  \\\n",
      "0     Rosaline Franklin  1920-07-25  1958-04-16   45             Chemist   \n",
      "1        William Gosset  1876-06-13  1937-10-16   66        Statistician   \n",
      "2  Florence Nightingale  1820-05-12  1910-08-13   61               Nurse   \n",
      "3           Marie Curie  1867-11-07  1934-07-04   37             Chemist   \n",
      "4         Rachel Carson  1907-05-27  1964-04-14   56           Biologist   \n",
      "5             John Snow  1813-03-15  1858-06-16   90           Physician   \n",
      "6           Alan Turing  1912-06-23  1954-06-07   41  Computer Scientist   \n",
      "7          Johann Gauss  1777-04-30  1855-02-23   77       Mathematician   \n",
      "\n",
      "     born_dt  died_date  \n",
      "0 1920-07-25 1958-04-16  \n",
      "1 1876-06-13 1937-10-16  \n",
      "2 1820-05-12 1910-08-13  \n",
      "3 1867-11-07 1934-07-04  \n",
      "4 1907-05-27 1964-04-14  \n",
      "5 1813-03-15 1858-06-16  \n",
      "6 1912-06-23 1954-06-07  \n",
      "7 1777-04-30 1855-02-23  \n"
     ]
    }
   ],
   "source": [
    "#random_state is used to keep the randomization less random\n",
    "st['Age']=st['Age'].sample(len(st['Age']),random_state=24).reset_index(drop=True)#value stay randmized\n",
    "print(st['Age'])\n",
    "print(st)"
   ]
  },
  {
   "cell_type": "code",
   "execution_count": 84,
   "metadata": {},
   "outputs": [
    {
     "name": "stdout",
     "output_type": "stream",
     "text": [
      "                   Name        Born        Died  Age          Occupation  \\\n",
      "0     Rosaline Franklin  1920-07-25  1958-04-16   45             Chemist   \n",
      "1        William Gosset  1876-06-13  1937-10-16   66        Statistician   \n",
      "2  Florence Nightingale  1820-05-12  1910-08-13   61               Nurse   \n",
      "3           Marie Curie  1867-11-07  1934-07-04   37             Chemist   \n",
      "4         Rachel Carson  1907-05-27  1964-04-14   56           Biologist   \n",
      "5             John Snow  1813-03-15  1858-06-16   90           Physician   \n",
      "6           Alan Turing  1912-06-23  1954-06-07   41  Computer Scientist   \n",
      "7          Johann Gauss  1777-04-30  1855-02-23   77       Mathematician   \n",
      "\n",
      "     born_dt  died_date age_days_dt  \n",
      "0 1920-07-25 1958-04-16  13779 days  \n",
      "1 1876-06-13 1937-10-16  22404 days  \n",
      "2 1820-05-12 1910-08-13  32964 days  \n",
      "3 1867-11-07 1934-07-04  24345 days  \n",
      "4 1907-05-27 1964-04-14  20777 days  \n",
      "5 1813-03-15 1858-06-16  16529 days  \n",
      "6 1912-06-23 1954-06-07  15324 days  \n",
      "7 1777-04-30 1855-02-23  28422 days  \n"
     ]
    }
   ],
   "source": [
    "#subtracting data\n",
    "st['age_days_dt']=(st['died_date']-st['born_dt'])\n",
    "print(st)"
   ]
  },
  {
   "cell_type": "code",
   "execution_count": 88,
   "metadata": {},
   "outputs": [
    {
     "name": "stdout",
     "output_type": "stream",
     "text": [
      "                   Name        Born        Died  Age          Occupation  \\\n",
      "0     Rosaline Franklin  1920-07-25  1958-04-16   45             Chemist   \n",
      "1        William Gosset  1876-06-13  1937-10-16   66        Statistician   \n",
      "2  Florence Nightingale  1820-05-12  1910-08-13   61               Nurse   \n",
      "3           Marie Curie  1867-11-07  1934-07-04   37             Chemist   \n",
      "4         Rachel Carson  1907-05-27  1964-04-14   56           Biologist   \n",
      "5             John Snow  1813-03-15  1858-06-16   90           Physician   \n",
      "6           Alan Turing  1912-06-23  1954-06-07   41  Computer Scientist   \n",
      "7          Johann Gauss  1777-04-30  1855-02-23   77       Mathematician   \n",
      "\n",
      "     born_dt  died_date age_days_dt  age_years_dt  \n",
      "0 1920-07-25 1958-04-16  13779 days          37.0  \n",
      "1 1876-06-13 1937-10-16  22404 days          61.0  \n",
      "2 1820-05-12 1910-08-13  32964 days          90.0  \n",
      "3 1867-11-07 1934-07-04  24345 days          66.0  \n",
      "4 1907-05-27 1964-04-14  20777 days          56.0  \n",
      "5 1813-03-15 1858-06-16  16529 days          45.0  \n",
      "6 1912-06-23 1954-06-07  15324 days          41.0  \n",
      "7 1777-04-30 1855-02-23  28422 days          77.0  \n"
     ]
    }
   ],
   "source": [
    "#convert into the year\n",
    "st['age_years_dt']=st['age_days_dt'].astype('timedelta64[Y]')\n",
    "print(st)"
   ]
  },
  {
   "cell_type": "code",
   "execution_count": 89,
   "metadata": {},
   "outputs": [
    {
     "name": "stdout",
     "output_type": "stream",
     "text": [
      "Index(['Name', 'Born', 'Died', 'Age', 'Occupation', 'born_dt', 'died_date',\n",
      "       'age_days_dt', 'age_years_dt'],\n",
      "      dtype='object')\n"
     ]
    }
   ],
   "source": [
    "#dropping values\n",
    "print(st.columns)"
   ]
  },
  {
   "cell_type": "code",
   "execution_count": 92,
   "metadata": {},
   "outputs": [
    {
     "name": "stdout",
     "output_type": "stream",
     "text": [
      "                   Name        Born        Died    Occupation    born_dt  \\\n",
      "0     Rosaline Franklin  1920-07-25  1958-04-16       Chemist 1920-07-25   \n",
      "1        William Gosset  1876-06-13  1937-10-16  Statistician 1876-06-13   \n",
      "2  Florence Nightingale  1820-05-12  1910-08-13         Nurse 1820-05-12   \n",
      "3           Marie Curie  1867-11-07  1934-07-04       Chemist 1867-11-07   \n",
      "4         Rachel Carson  1907-05-27  1964-04-14     Biologist 1907-05-27   \n",
      "\n",
      "   died_date age_days_dt  age_years_dt  \n",
      "0 1958-04-16  13779 days          37.0  \n",
      "1 1937-10-16  22404 days          61.0  \n",
      "2 1910-08-13  32964 days          90.0  \n",
      "3 1934-07-04  24345 days          66.0  \n",
      "4 1964-04-14  20777 days          56.0  \n"
     ]
    }
   ],
   "source": [
    "#drop the shuffled age column\n",
    "st_drop = st.drop(['Age'],axis=1)\n",
    "print(st_drop.head())"
   ]
  },
  {
   "cell_type": "code",
   "execution_count": 94,
   "metadata": {},
   "outputs": [
    {
     "name": "stdout",
     "output_type": "stream",
     "text": [
      "0       Rosaline Franklin\n",
      "1          William Gosset\n",
      "2    Florence Nightingale\n",
      "3             Marie Curie\n",
      "4           Rachel Carson\n",
      "5               John Snow\n",
      "6             Alan Turing\n",
      "7            Johann Gauss\n",
      "Name: Name, dtype: object\n"
     ]
    }
   ],
   "source": [
    "#exporting and importing the data\n",
    "names = st['Name']\n",
    "print(names)"
   ]
  },
  {
   "cell_type": "code",
   "execution_count": 98,
   "metadata": {},
   "outputs": [],
   "source": [
    "#pass in a string to local, and dataframe\n",
    "names.to_pickle('C:/Users/Glenn/data/output/scirntists_names_series.pickle')\n",
    "st.to_pickle('C:/Users/Glenn/data/output/scientists_df.pickle')"
   ]
  },
  {
   "cell_type": "code",
   "execution_count": 99,
   "metadata": {},
   "outputs": [
    {
     "name": "stderr",
     "output_type": "stream",
     "text": [
      "C:\\Users\\Glenn\\Anaconda3\\lib\\site-packages\\ipykernel_launcher.py:2: FutureWarning: The signature of `Series.to_csv` was aligned to that of `DataFrame.to_csv`, and argument 'header' will change its default value from False to True: please pass an explicit value to suppress this warning.\n",
      "  \n"
     ]
    }
   ],
   "source": [
    "#save name to csv\n",
    "names.to_csv('C:/Users/Glenn/data/output/scirntists_names_series.csv')"
   ]
  }
 ],
 "metadata": {
  "kernelspec": {
   "display_name": "Python 3",
   "language": "python",
   "name": "python3"
  },
  "language_info": {
   "codemirror_mode": {
    "name": "ipython",
    "version": 3
   },
   "file_extension": ".py",
   "mimetype": "text/x-python",
   "name": "python",
   "nbconvert_exporter": "python",
   "pygments_lexer": "ipython3",
   "version": "3.7.3"
  }
 },
 "nbformat": 4,
 "nbformat_minor": 2
}
